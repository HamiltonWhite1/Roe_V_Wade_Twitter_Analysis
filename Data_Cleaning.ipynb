{
 "cells": [
  {
   "cell_type": "code",
   "execution_count": 1,
   "id": "4dc04029",
   "metadata": {},
   "outputs": [],
   "source": [
    "import pandas as pd"
   ]
  },
  {
   "cell_type": "code",
   "execution_count": 2,
   "id": "f3ec25d9",
   "metadata": {},
   "outputs": [],
   "source": [
    "#Columns to drop from webscrape DF\n",
    "to_drop = ['user/lang', 'hashtags/2', 'hashtags/3', 'hashtags/4', 'hashtags/5', 'hashtags/6', 'hashtags/7', 'hashtags/8', 'hashtags/9',\n",
    "           'hashtags/10', 'hashtags/11', 'hashtags/12', 'hashtags/13', 'hashtags/14', 'hashtags/14', 'hashtags/15',\n",
    "           'hashtags/16', 'hashtags/17', 'hashtags/18', 'hashtags/19', 'hashtags/20', 'hashtags/21', 'hashtags/22',\n",
    "           'hashtags/23', 'hashtags/24', 'hashtags/25', 'hashtags/26', 'hashtags/27', 'hashtags/28', \n",
    "           'id', 'symbols/0', 'symbols/1', 'symbols/2', 'url', 'urls/0/display_url', 'urls/0/expanded_url', \n",
    "           'urls/0/url','urls/1/display_url', 'urls/2/display_url', 'user/blocked_by', 'user/business_profile_state', 'user/can_dm', 'user/contributors_enabled', \n",
    "           'user/default_profile_image', 'user/ext_has_nft_avatar', 'user/fast_followers_count', 'user/follow_request_sent', \n",
    "           'user/followed_by', 'user/following', 'user/geo_enabled', 'user/has_custom_timelines', 'user/id', \n",
    "           'user/id_str', 'urls/1/expanded_url', 'urls/1/url', 'urls/2/expanded_url', 'urls/2/expanded_url', 'urls/2/url', 'urls/3/display_url',\n",
    "           'urls/3/expanded_url','urls/3/url', 'user/is_translation_enabled', 'user/is_translator', 'user/muting', 'user/notifications', \n",
    "           'user/profile_background_color', 'user/profile_background_image_url', 'user/profile_background_image_url_https', \n",
    "           'user/profile_background_tile', 'user/profile_banner_extensions_sensitive_media_warning', 'user/profile_banner_url', \n",
    "           'user/profile_image_extensions_sensitive_media_warning', 'user/profile_image_url', 'user/profile_image_url_https', 'user/profile_sidebar_border_color', \n",
    "           'user/profile_sidebar_fill_color, user/profile_text_color', 'user/protected', 'user/require_some_consent', 'user/time_zone', \n",
    "           'user/translator_type', 'user/url', 'user/utc_offset', 'user/want_retweets', 'user_mentions/0/id_str', \n",
    "           'user_mentions/1/id_str', 'user_mentions/1/name', 'user_mentions/1/screen_name', 'user_mentions/2/id_str', \n",
    "           'user_mentions/2/name', 'user_mentions/2/screen_name', 'user_mentions/3/id_str', 'user_mentions/3/name', \n",
    "           'user_mentions/3/screen_name', 'user_mentions/4/id_str', 'user_mentions/4/name', 'user_mentions/4/screen_name', \n",
    "           'user_mentions/5/id_str', 'user_mentions/5/name', 'user_mentions/5/screen_name', 'user_mentions/6/id_str', \n",
    "           'user_mentions/6/name', 'user_mentions/6/screen_name', 'user_mentions/7/id_str', 'user_mentions/7/name', 'user_mentions/7/screen_name',\n",
    "           'user/profile_text_color', 'user/profile_sidebar_fill_color', 'user/profile_use_background_image', 'user/blocking', \n",
    "           'conversation_id', 'user_mentions/7/screen_name', 'user_mentions/8/id_str', 'user_mentions/8/name', 'user_mentions/8/screen_name', 'user_mentions/9/id_str', 'user_mentions/9/name', 'user_mentions/9/screen_name', \n",
    "           'user_mentions/10/id_str', 'user_mentions/10/name', 'user_mentions/10/screen_name', 'user_mentions/11/id_str', 'user_mentions/11/name', \n",
    "           'user_mentions/11/screen_name', 'user_mentions/12/id_str', 'user_mentions/12/name', 'user_mentions/12/screen_name', 'user_mentions/13/id_str', \n",
    "           'user_mentions/13/name', 'user_mentions/13/screen_name', 'user_mentions/14/id_str', 'user_mentions/14/name', 'user_mentions/14/screen_name']"
   ]
  },
  {
   "cell_type": "code",
   "execution_count": 3,
   "id": "58423000",
   "metadata": {},
   "outputs": [],
   "source": [
    "first_scrape = pd.read_json('JSONs/first_scrape.json')\n",
    "second_scrape = pd.read_json('JSONs/second_scrape.json')\n",
    "third_scrape = pd.read_json('JSONs/third_scrape.json')\n",
    "fourth_scrape = pd.read_json('JSONs/fourth_scrape.json')\n",
    "fifth_scrape = pd.read_json('JSONs/fifth_scrape.json')\n",
    "sixth_scrape = pd.read_json('JSONs/sixth_scrape.json')\n",
    "seventh_scrape = pd.read_json('JSONs/seventh_scrape.json')\n",
    "eighth_scrape = pd.read_json('JSONs/eigth_scrape.json')\n",
    "ninth_scrape = pd.read_json('JSONs/ninth_scrape.json')\n",
    "tenth_scrape = pd.read_json('JSONs/tenth_scrape.json')\n",
    "eleventh_scrape = pd.read_json('JSONs/eleventh_scrape.json')\n",
    "twelth_scrape = pd.read_json('JSONs/twelth_scrape.json')\n",
    "thirteenth_scrape = pd.read_json('JSONs/thirteenth_scrape.json')\n",
    "fourteenth_scrape = pd.read_json('JSONs/fourteenth_scrape.json')\n",
    "fifteenth_scrape = pd.read_json('JSONs/fifteenth_scrape.json')\n",
    "sixteenth_scrape = pd.read_json('JSONs/sixteenth_scrape.json')\n",
    "seventeenth_scrape = pd.read_json('JSONs/seventeenth_scrape.json')\n",
    "eighteenth_scrape = pd.read_json('JSONs/eighteenth_scrape.json')\n",
    "nineteenth_scrape = pd.read_json('JSONs/nineteenth_scrape.json')\n",
    "twentieth_scrape = pd.read_json('JSONs/twentieth_scrape.json')\n",
    "twenty_first_scrape = pd.read_json('JSONs/twenty_first_scrape.json')\n",
    "twenty_second_scrape = pd.read_json('JSONs/twenty_second_scrape.json')\n",
    "twenty_third_scrape = pd.read_json('JSONs/twenty_third_scrape.json')\n",
    "twenty_fourth_scrape = pd.read_json('JSONs/twenty_fourth_scrape.json')\n",
    "twenty_fifth_scrape = pd.read_json('JSONs/twenty_fifth_scrape.json')\n",
    "twenty_sixth_scrape = pd.read_json('JSONs/twenty_sixth_scrape.json')"
   ]
  },
  {
   "cell_type": "code",
   "execution_count": 4,
   "id": "b4aaada9",
   "metadata": {},
   "outputs": [],
   "source": [
    "#creating a variable to continually store all new data over the next couple days. Will add in new JSONs as they are completed\n",
    "all_scrape = pd.concat([first_scrape, second_scrape, third_scrape, fourth_scrape, fifth_scrape,\n",
    "                        sixth_scrape, seventh_scrape, eighth_scrape, ninth_scrape, tenth_scrape,\n",
    "                        eleventh_scrape, twelth_scrape, thirteenth_scrape, fourteenth_scrape, fifteenth_scrape,\n",
    "                        sixteenth_scrape, seventeenth_scrape, eighteenth_scrape, nineteenth_scrape,\n",
    "                        twentieth_scrape, twenty_first_scrape, twenty_second_scrape, twenty_third_scrape,\n",
    "                        twenty_fourth_scrape, twenty_fifth_scrape, twenty_sixth_scrape])"
   ]
  },
  {
   "cell_type": "code",
   "execution_count": 5,
   "id": "030170fb",
   "metadata": {},
   "outputs": [],
   "source": [
    "#The bot running on a schedule appears to produce a lot of duplicates. Around 43,000 tweets were dropped as a result\n",
    "#of the following code. I will continue reading in both JSONs the bot produces in order to maintain \n",
    "#thorough accumulation of the data\n",
    "all_scrape.drop_duplicates(subset='full_text', inplace=True)"
   ]
  },
  {
   "cell_type": "code",
   "execution_count": 6,
   "id": "5c0ba152",
   "metadata": {},
   "outputs": [],
   "source": [
    "# all_scrape.to_csv('Cumulative_Tweets_1.csv')\n",
    "# For hosting on Kaggle\n",
    "all_scrape.to_csv('Cumulative_Tweets_5.csv')"
   ]
  },
  {
   "cell_type": "code",
   "execution_count": 8,
   "id": "2ea19cda",
   "metadata": {},
   "outputs": [],
   "source": [
    "#Removing non-unique ID's so the DF can be saved as a JSON\n",
    "all_scrape.reset_index(drop=True, inplace=True)"
   ]
  },
  {
   "cell_type": "code",
   "execution_count": 11,
   "id": "7d5bc56e",
   "metadata": {},
   "outputs": [],
   "source": [
    "#saving as JSON file\n",
    "all_scrape.to_json('self.json')"
   ]
  },
  {
   "cell_type": "code",
   "execution_count": null,
   "id": "c2fa8cb9",
   "metadata": {},
   "outputs": [],
   "source": []
  }
 ],
 "metadata": {
  "kernelspec": {
   "display_name": "Python 3 (ipykernel)",
   "language": "python",
   "name": "python3"
  },
  "language_info": {
   "codemirror_mode": {
    "name": "ipython",
    "version": 3
   },
   "file_extension": ".py",
   "mimetype": "text/x-python",
   "name": "python",
   "nbconvert_exporter": "python",
   "pygments_lexer": "ipython3",
   "version": "3.9.7"
  }
 },
 "nbformat": 4,
 "nbformat_minor": 5
}
